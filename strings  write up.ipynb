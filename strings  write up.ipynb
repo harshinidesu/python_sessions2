{
 "cells": [
  {
   "cell_type": "markdown",
   "id": "2ba2d74f",
   "metadata": {},
   "source": [
    "*how  to  read  the  strings*"
   ]
  },
  {
   "cell_type": "code",
   "execution_count": 1,
   "id": "7d7d40f6",
   "metadata": {},
   "outputs": [
    {
     "data": {
      "text/plain": [
       "'python'"
      ]
     },
     "execution_count": 1,
     "metadata": {},
     "output_type": "execute_result"
    }
   ],
   "source": [
    "# single quotes\n",
    "string1='python'\n",
    "string1   "
   ]
  },
  {
   "cell_type": "code",
   "execution_count": 2,
   "id": "ec68e2e7",
   "metadata": {},
   "outputs": [
    {
     "data": {
      "text/plain": [
       "'good morning'"
      ]
     },
     "execution_count": 2,
     "metadata": {},
     "output_type": "execute_result"
    }
   ],
   "source": [
    "#double quotes\n",
    "string1=\"good morning\"\n",
    "string1"
   ]
  },
  {
   "cell_type": "code",
   "execution_count": 3,
   "id": "ac6abdb1",
   "metadata": {},
   "outputs": [
    {
     "data": {
      "text/plain": [
       "'hello'"
      ]
     },
     "execution_count": 3,
     "metadata": {},
     "output_type": "execute_result"
    }
   ],
   "source": [
    "#triple quote also no as doc string\n",
    "string1=\"\"\"hello\"\"\"\n",
    "string1"
   ]
  },
  {
   "cell_type": "code",
   "execution_count": 1,
   "id": "612ba1b2",
   "metadata": {},
   "outputs": [
    {
     "name": "stdout",
     "output_type": "stream",
     "text": [
      "hello \"python\"\n"
     ]
    }
   ],
   "source": [
    "# the main purpose of using triple quotes in python is to create mutli-line strings and doc strings\n",
    "# the highlite of the quote \n",
    "string2='hello \"python\"'\n",
    "print(string2)"
   ]
  },
  {
   "cell_type": "markdown",
   "id": "24e012c7",
   "metadata": {},
   "source": [
    "$type$"
   ]
  },
  {
   "cell_type": "code",
   "execution_count": 5,
   "id": "d00a1506",
   "metadata": {},
   "outputs": [
    {
     "data": {
      "text/plain": [
       "str"
      ]
     },
     "execution_count": 5,
     "metadata": {},
     "output_type": "execute_result"
    }
   ],
   "source": [
    "type(string2)"
   ]
  },
  {
   "cell_type": "markdown",
   "id": "685f36c4",
   "metadata": {},
   "source": [
    "$len$"
   ]
  },
  {
   "cell_type": "code",
   "execution_count": 6,
   "id": "fd11bc71",
   "metadata": {},
   "outputs": [
    {
     "data": {
      "text/plain": [
       "15"
      ]
     },
     "execution_count": 6,
     "metadata": {},
     "output_type": "execute_result"
    }
   ],
   "source": [
    "# len function returns the number of characters in the string\n",
    "    \n",
    "string3='hi good morning'\n",
    "len(string3)"
   ]
  },
  {
   "cell_type": "markdown",
   "id": "26645e5d",
   "metadata": {},
   "source": [
    "$max-min$"
   ]
  },
  {
   "cell_type": "code",
   "execution_count": 9,
   "id": "a6ad8a1d",
   "metadata": {},
   "outputs": [
    {
     "name": "stdout",
     "output_type": "stream",
     "text": [
      "a\n",
      "A\n"
     ]
    }
   ],
   "source": [
    "#the highest value of a function is considered the max\n",
    "#the lowest value of the function is considered the min\n",
    "string1='Aa'\n",
    "print(max(string1))\n",
    "print(min(string1))"
   ]
  },
  {
   "cell_type": "markdown",
   "id": "c2800eb6",
   "metadata": {},
   "source": [
    "$ord-chr$"
   ]
  },
  {
   "cell_type": "code",
   "execution_count": 10,
   "id": "faadb0ee",
   "metadata": {},
   "outputs": [
    {
     "data": {
      "text/plain": [
       "109"
      ]
     },
     "execution_count": 10,
     "metadata": {},
     "output_type": "execute_result"
    }
   ],
   "source": [
    "#\n",
    "ord('m')         #it will provide ascii value of chr"
   ]
  },
  {
   "cell_type": "code",
   "execution_count": 11,
   "id": "654d6d56",
   "metadata": {},
   "outputs": [
    {
     "data": {
      "text/plain": [
       "(109, 111, 114, 110, 105, 110, 103)"
      ]
     },
     "execution_count": 11,
     "metadata": {},
     "output_type": "execute_result"
    }
   ],
   "source": [
    "ord('m'),ord('o'),ord('r'),ord('n'),ord('i'),ord('n'),ord('g')"
   ]
  },
  {
   "cell_type": "code",
   "execution_count": 12,
   "id": "7f542a3f",
   "metadata": {},
   "outputs": [
    {
     "data": {
      "text/plain": [
       "('m', 'o', 'r', 'n', 'i', 'n', 'g')"
      ]
     },
     "execution_count": 12,
     "metadata": {},
     "output_type": "execute_result"
    }
   ],
   "source": [
    "chr(109),chr(111),chr(114),chr(110),chr(105),chr(110),chr(103)      #it will provide ascii character of ord"
   ]
  },
  {
   "cell_type": "markdown",
   "id": "e55e13bc",
   "metadata": {},
   "source": [
    "**addition of two strings**"
   ]
  },
  {
   "cell_type": "code",
   "execution_count": 14,
   "id": "c10f991c",
   "metadata": {},
   "outputs": [
    {
     "data": {
      "text/plain": [
       "'hello good morning'"
      ]
     },
     "execution_count": 14,
     "metadata": {},
     "output_type": "execute_result"
    }
   ],
   "source": [
    "# adding the two strings is called as concentation\n",
    "str1='hello'\n",
    "str2=' good morning'\n",
    "str1+str2"
   ]
  },
  {
   "cell_type": "markdown",
   "id": "3649d154",
   "metadata": {},
   "source": [
    "**subraction**"
   ]
  },
  {
   "cell_type": "code",
   "execution_count": 17,
   "id": "103256a9",
   "metadata": {},
   "outputs": [
    {
     "data": {
      "text/plain": [
       "455"
      ]
     },
     "execution_count": 17,
     "metadata": {},
     "output_type": "execute_result"
    }
   ],
   "source": [
    "str3=755        # str3 \n",
    "str4=300\n",
    "str3-str4"
   ]
  },
  {
   "cell_type": "markdown",
   "id": "5ae95179",
   "metadata": {},
   "source": [
    "**multiplication** "
   ]
  },
  {
   "cell_type": "code",
   "execution_count": 19,
   "id": "1ae054f2",
   "metadata": {},
   "outputs": [
    {
     "data": {
      "text/plain": [
       "3267"
      ]
     },
     "execution_count": 19,
     "metadata": {},
     "output_type": "execute_result"
    }
   ],
   "source": [
    "str1=99\n",
    "str2=33\n",
    "str1*str2"
   ]
  },
  {
   "cell_type": "markdown",
   "id": "b46e6876",
   "metadata": {},
   "source": [
    "*division*"
   ]
  },
  {
   "cell_type": "code",
   "execution_count": 2,
   "id": "d07b161f",
   "metadata": {},
   "outputs": [
    {
     "data": {
      "text/plain": [
       "0.696969696969697"
      ]
     },
     "execution_count": 2,
     "metadata": {},
     "output_type": "execute_result"
    }
   ],
   "source": [
    "str1=23\n",
    "str2=33\n",
    "str1/str2"
   ]
  },
  {
   "cell_type": "markdown",
   "id": "057482dd",
   "metadata": {},
   "source": [
    "*in operator(for loop)*"
   ]
  },
  {
   "cell_type": "code",
   "execution_count": 4,
   "id": "7980fad6",
   "metadata": {},
   "outputs": [
    {
     "name": "stdout",
     "output_type": "stream",
     "text": [
      "10\n"
     ]
    }
   ],
   "source": [
    "# in operator the string all sentence will use in operator\n",
    "string1='hai how are you,im fine.'\n",
    "count=0\n",
    "for i in string1:\n",
    "    if i in 'aieou':\n",
    "        count=count+1\n",
    "        \n",
    "print(count)"
   ]
  },
  {
   "cell_type": "markdown",
   "id": "98106e88",
   "metadata": {},
   "source": [
    "*index*"
   ]
  },
  {
   "cell_type": "code",
   "execution_count": 17,
   "id": "0e15f694",
   "metadata": {},
   "outputs": [
    {
     "name": "stdout",
     "output_type": "stream",
     "text": [
      "4\n",
      "7\n",
      "11\n"
     ]
    }
   ],
   "source": [
    "string1='hello python'              # the index is  the string character find value of word will use the index\n",
    "print(string1.index('o'))\n",
    "print(string1.index('y'))\n",
    "print(string1.index('n'))"
   ]
  },
  {
   "cell_type": "markdown",
   "id": "fcc1b8d6",
   "metadata": {},
   "source": [
    "*mutable condition*"
   ]
  },
  {
   "cell_type": "code",
   "execution_count": 5,
   "id": "066f7a9b",
   "metadata": {},
   "outputs": [
    {
     "data": {
      "text/plain": [
       "[100, 200, 300, 'apple']"
      ]
     },
     "execution_count": 5,
     "metadata": {},
     "output_type": "execute_result"
    }
   ],
   "source": [
    " string1=[100,200,300,'apple']                                 # mutable ==== we can chang                                 \n",
    "string1                                              "
   ]
  },
  {
   "cell_type": "code",
   "execution_count": 9,
   "id": "4af51c54",
   "metadata": {},
   "outputs": [
    {
     "ename": "TypeError",
     "evalue": "'str' object does not support item assignment",
     "output_type": "error",
     "traceback": [
      "\u001b[1;31m---------------------------------------------------------------------------\u001b[0m",
      "\u001b[1;31mTypeError\u001b[0m                                 Traceback (most recent call last)",
      "Cell \u001b[1;32mIn[9], line 2\u001b[0m\n\u001b[0;32m      1\u001b[0m string1\u001b[38;5;241m=\u001b[39m(\u001b[38;5;124m'\u001b[39m\u001b[38;5;124mwelcome\u001b[39m\u001b[38;5;124m'\u001b[39m)\n\u001b[1;32m----> 2\u001b[0m string1[\u001b[38;5;241m2\u001b[39m]\u001b[38;5;241m=\u001b[39m\u001b[38;5;124m'\u001b[39m\u001b[38;5;124mL\u001b[39m\u001b[38;5;124m'\u001b[39m\n",
      "\u001b[1;31mTypeError\u001b[0m: 'str' object does not support item assignment"
     ]
    }
   ],
   "source": [
    "string1=('welcome')                          #immutable ===== we can not change the value by using index operations\n",
    "string1[2]='L'"
   ]
  },
  {
   "cell_type": "markdown",
   "id": "ebafd6eb",
   "metadata": {},
   "source": [
    "$slice$"
   ]
  },
  {
   "cell_type": "code",
   "execution_count": 25,
   "id": "b7c30dbc",
   "metadata": {},
   "outputs": [
    {
     "name": "stdout",
     "output_type": "stream",
     "text": [
      "odmri\n",
      "\n"
     ]
    }
   ],
   "source": [
    "string1='good morning python'\n",
    "print(string1[1:10:2])        # it works \n",
    "print(string1[1:10:-2])       # not works"
   ]
  },
  {
   "cell_type": "markdown",
   "id": "3a80b678",
   "metadata": {},
   "source": [
    "*strings method*"
   ]
  },
  {
   "cell_type": "code",
   "execution_count": null,
   "id": "30d5813e",
   "metadata": {},
   "outputs": [],
   "source": [
    "import <package_name>\n",
    "dir(<package_name>)\n",
    "help(<package_name>.<method_name>)\n",
    "\n",
    "#first we have to import the package name \n",
    "#while dir package will display the name of methods\n",
    "#help ,package name,method name, have to write like this"
   ]
  },
  {
   "cell_type": "markdown",
   "id": "007372e3",
   "metadata": {},
   "source": [
    "$capitalize$"
   ]
  },
  {
   "cell_type": "code",
   "execution_count": 10,
   "id": "b04ec923",
   "metadata": {},
   "outputs": [
    {
     "data": {
      "text/plain": [
       "'Nallagoni omkar'"
      ]
     },
     "execution_count": 10,
     "metadata": {},
     "output_type": "execute_result"
    }
   ],
   "source": [
    "string1='nallagoni omkar'              #the capitalize change the string into captial for the frist letter\n",
    "string1.capitalize()"
   ]
  },
  {
   "cell_type": "markdown",
   "id": "84e6b263",
   "metadata": {},
   "source": [
    "$upper$"
   ]
  },
  {
   "cell_type": "code",
   "execution_count": 11,
   "id": "5c253754",
   "metadata": {},
   "outputs": [
    {
     "data": {
      "text/plain": [
       "'NARESHIT'"
      ]
     },
     "execution_count": 11,
     "metadata": {},
     "output_type": "execute_result"
    }
   ],
   "source": [
    "string1='nareshit'                  #the upper case change the string into all captial letters\n",
    "string1.upper()"
   ]
  },
  {
   "cell_type": "markdown",
   "id": "6bb74d7b",
   "metadata": {},
   "source": [
    "$lower$"
   ]
  },
  {
   "cell_type": "code",
   "execution_count": 12,
   "id": "6c2123e2",
   "metadata": {},
   "outputs": [
    {
     "data": {
      "text/plain": [
       "'nallagoni omkar'"
      ]
     },
     "execution_count": 12,
     "metadata": {},
     "output_type": "execute_result"
    }
   ],
   "source": [
    "string1='NALLAGONI omkar'                #the lower case change the string into small letters\n",
    "string1.lower()"
   ]
  },
  {
   "cell_type": "markdown",
   "id": "cfbb7c9d",
   "metadata": {},
   "source": [
    "*case fold*"
   ]
  },
  {
   "cell_type": "code",
   "execution_count": 13,
   "id": "73e2b97d",
   "metadata": {},
   "outputs": [
    {
     "data": {
      "text/plain": [
       "'ram pothinani'"
      ]
     },
     "execution_count": 13,
     "metadata": {},
     "output_type": "execute_result"
    }
   ],
   "source": [
    "string2='RAM pOtHiNANI'                   #casefold : Case less comparision( lower case)\n",
    "string2.casefold()"
   ]
  },
  {
   "cell_type": "markdown",
   "id": "8390785c",
   "metadata": {},
   "source": [
    "*index/find*"
   ]
  },
  {
   "cell_type": "code",
   "execution_count": 3,
   "id": "f2012c0b",
   "metadata": {},
   "outputs": [
    {
     "name": "stdout",
     "output_type": "stream",
     "text": [
      "5\n",
      "11\n",
      "-1\n",
      "10\n"
     ]
    }
   ],
   "source": [
    "string1='nallagoni omkar'             #the index find string value of the word\n",
    "print(string1.index('g'))\n",
    "print(string1.index('m'))\n",
    "\n",
    "\n",
    "\n",
    "string2='desu harshini'                #if substring not found it returns -1\n",
    "print(string2.find('z'))\n",
    "print(string2.find('i'))"
   ]
  },
  {
   "cell_type": "markdown",
   "id": "4e2ed64f",
   "metadata": {},
   "source": [
    "$count$"
   ]
  },
  {
   "cell_type": "code",
   "execution_count": 5,
   "id": "dadb2c46",
   "metadata": {},
   "outputs": [
    {
     "name": "stdout",
     "output_type": "stream",
     "text": [
      "5\n"
     ]
    }
   ],
   "source": [
    "string1='good morning hi how are you'      #the count the string what we represent letter it will count the word.\n",
    "count=0\n",
    "for i in string1:\n",
    "    if i=='o':\n",
    "        count+=1\n",
    "print(count)"
   ]
  },
  {
   "cell_type": "markdown",
   "id": "e29d9ceb",
   "metadata": {},
   "source": [
    "$replace$"
   ]
  },
  {
   "cell_type": "code",
   "execution_count": 9,
   "id": "6193ecd8",
   "metadata": {},
   "outputs": [
    {
     "name": "stdout",
     "output_type": "stream",
     "text": [
      "nallagoni o&kar\n"
     ]
    },
    {
     "data": {
      "text/plain": [
       "'n$ll$goni omk$r'"
      ]
     },
     "execution_count": 9,
     "metadata": {},
     "output_type": "execute_result"
    }
   ],
   "source": [
    "string2='nallagoni omkar'                          #the replace is change the word what we represent in string.\n",
    "print(string2.replace('m','&',4))\n",
    "\n",
    "\n",
    "string2[::-1].replace('a','$')[::-1]"
   ]
  },
  {
   "cell_type": "markdown",
   "id": "b7252a8a",
   "metadata": {},
   "source": [
    "*lstrip/rstrip/strip*"
   ]
  },
  {
   "cell_type": "code",
   "execution_count": 10,
   "id": "44eaff79",
   "metadata": {},
   "outputs": [
    {
     "name": "stdout",
     "output_type": "stream",
     "text": [
      "good morning\n",
      "good morning\n",
      "good morning\n"
     ]
    }
   ],
   "source": [
    "str1=' good morning '                #if you want to remove the spaces both side use strip method\n",
    "str2=' good morning'               #if you want to remove the spaces only left side then use Lstrip.\n",
    "str3='good morning '               #if you want to remove the spaces only right side then use rstrip.\n",
    "\n",
    "\n",
    "print(str1.strip())\n",
    "print(str2.lstrip())\n",
    "print(str3.rstrip())               # the strip remove the space between the string"
   ]
  },
  {
   "cell_type": "code",
   "execution_count": 11,
   "id": "0cece2ba",
   "metadata": {},
   "outputs": [
    {
     "data": {
      "text/plain": [
       "'good morning'"
      ]
     },
     "execution_count": 11,
     "metadata": {},
     "output_type": "execute_result"
    }
   ],
   "source": [
    "str1.strip()           "
   ]
  },
  {
   "cell_type": "code",
   "execution_count": 12,
   "id": "02d7a084",
   "metadata": {},
   "outputs": [
    {
     "data": {
      "text/plain": [
       "'good morning'"
      ]
     },
     "execution_count": 12,
     "metadata": {},
     "output_type": "execute_result"
    }
   ],
   "source": [
    "str2.lstrip()"
   ]
  },
  {
   "cell_type": "code",
   "execution_count": 13,
   "id": "a3ffca9c",
   "metadata": {},
   "outputs": [
    {
     "data": {
      "text/plain": [
       "'good morning'"
      ]
     },
     "execution_count": 13,
     "metadata": {},
     "output_type": "execute_result"
    }
   ],
   "source": [
    "str3.rstrip()"
   ]
  },
  {
   "cell_type": "markdown",
   "id": "1d856b0f",
   "metadata": {},
   "source": [
    "*startswith/endswith*"
   ]
  },
  {
   "cell_type": "code",
   "execution_count": 19,
   "id": "9a520314",
   "metadata": {},
   "outputs": [
    {
     "name": "stdout",
     "output_type": "stream",
     "text": [
      "False\n"
     ]
    },
    {
     "data": {
      "text/plain": [
       "True"
      ]
     },
     "execution_count": 19,
     "metadata": {},
     "output_type": "execute_result"
    }
   ],
   "source": [
    "str1='I am harshini hi how are you'         #the startswith is start the word we represent the frist letter is true or false.\n",
    "print(str1.startswith('i'))\n",
    "str1.startswith('I')"
   ]
  },
  {
   "cell_type": "code",
   "execution_count": 20,
   "id": "715d6ccc",
   "metadata": {},
   "outputs": [
    {
     "name": "stdout",
     "output_type": "stream",
     "text": [
      "True\n"
     ]
    },
    {
     "data": {
      "text/plain": [
       "False"
      ]
     },
     "execution_count": 20,
     "metadata": {},
     "output_type": "execute_result"
    }
   ],
   "source": [
    "print(str1.endswith('you'))              # the endswith is ends word we represent the last letter is true or false.\n",
    "str1.endswith('are')"
   ]
  },
  {
   "cell_type": "markdown",
   "id": "c14c2a60",
   "metadata": {},
   "source": [
    "*isalpha/isnumeric/isalnum*"
   ]
  },
  {
   "cell_type": "code",
   "execution_count": 3,
   "id": "470f6378",
   "metadata": {},
   "outputs": [
    {
     "name": "stdout",
     "output_type": "stream",
     "text": [
      "True\n",
      "False\n",
      "True\n",
      "True\n",
      "True\n"
     ]
    },
    {
     "data": {
      "text/plain": [
       "True"
      ]
     },
     "execution_count": 3,
     "metadata": {},
     "output_type": "execute_result"
    }
   ],
   "source": [
    "str1='abc'\n",
    "str2='123'                               # the isalpha is the word is true or false\n",
    "str3=\"harshini123\"                           # the isnumeric the number is true or false\n",
    "print(str1.isalpha())                    #the isalnum  also true or false.\n",
    "print(str1.isnumeric())\n",
    "print(str2.isalnum())\n",
    "print(str2.isnumeric())\n",
    "print(str3.isalnum())\n",
    "str1.isalnum()"
   ]
  },
  {
   "cell_type": "markdown",
   "id": "4d25c57e",
   "metadata": {},
   "source": [
    "*split*"
   ]
  },
  {
   "cell_type": "code",
   "execution_count": 29,
   "id": "dd01e055",
   "metadata": {},
   "outputs": [
    {
     "data": {
      "text/plain": [
       "['hello', 'good', 'morning']"
      ]
     },
     "execution_count": 29,
     "metadata": {},
     "output_type": "execute_result"
    }
   ],
   "source": [
    "str1='hello good morning'\n",
    "str1.split()                                 # the split method use the word sperate the word of the str1."
   ]
  },
  {
   "cell_type": "code",
   "execution_count": 30,
   "id": "a4a988db",
   "metadata": {},
   "outputs": [
    {
     "data": {
      "text/plain": [
       "['hell', ' g', '', 'd m', 'rning']"
      ]
     },
     "execution_count": 30,
     "metadata": {},
     "output_type": "execute_result"
    }
   ],
   "source": [
    "str1.split('o')"
   ]
  },
  {
   "cell_type": "code",
   "execution_count": null,
   "id": "47002d19",
   "metadata": {},
   "outputs": [],
   "source": []
  }
 ],
 "metadata": {
  "kernelspec": {
   "display_name": "Python 3 (ipykernel)",
   "language": "python",
   "name": "python3"
  },
  "language_info": {
   "codemirror_mode": {
    "name": "ipython",
    "version": 3
   },
   "file_extension": ".py",
   "mimetype": "text/x-python",
   "name": "python",
   "nbconvert_exporter": "python",
   "pygments_lexer": "ipython3",
   "version": "3.11.5"
  }
 },
 "nbformat": 4,
 "nbformat_minor": 5
}
